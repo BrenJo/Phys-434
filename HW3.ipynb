{
 "cells": [
  {
   "cell_type": "code",
   "execution_count": 1,
   "id": "ae559d1a-a4e7-49dd-84fa-3330ea2e0799",
   "metadata": {},
   "outputs": [],
   "source": [
    "import pandas as pd\n",
    "import numpy as np"
   ]
  },
  {
   "cell_type": "markdown",
   "id": "577e2479-7556-40fb-8abe-b00d0fcef534",
   "metadata": {},
   "source": [
    "# Homework 3\n",
    "## Problem #1\n",
    "We're going to briefly look at truth tables. As an example let's assume we have a 100 photos, some of birds and some of people. In a truth table you assume you can categorize the true answer—let's say you pay an undergraduate to sort the photos into birds and people. Then you want to have an automated sorting algorithm. However that works, whether it is by looking a the color at the center of photo or using a neural network (NN), it will also sort the photos but imperfectly. Given two sorts you can then arrange a truth table.\n",
    "\n",
    "There are 48 birds and 52 People (columns), and there are 8 miscategorizations. The NN called three of the birds people, and 5 of the people birds.\n",
    "\n",
    "This is useful because it not only shows the number of errors, but the type, and not all errors are created equal. Let's say our identification system is being used to keep birds from escaping the aviary at the zoo by locking the aviary door when a bird is trying to escape. We really don't want to let birds escape, but locking a person in for 30 extra seconds is not a big deal. In this case false bird identification is not so bad, but false person identification lets a bird escape.\n",
    "\n",
    "Let's say the above truth table is the current system, and you've developed a new algorithm (NA) with the following truth table where 11 people were called birds and one bird was called a person by the algorithm.\n",
    "\n",
    "1a) Which algorithm makes the fewest mistakes?"
   ]
  },
  {
   "cell_type": "code",
   "execution_count": 2,
   "id": "6730b0e6-bbf1-4445-a447-8e199c5b5c23",
   "metadata": {},
   "outputs": [
    {
     "name": "stdout",
     "output_type": "stream",
     "text": [
      "8 , 12\n"
     ]
    }
   ],
   "source": [
    "NN_err = 5+3\n",
    "NA_err = 11+1\n",
    "print(NN_err,',',NA_err)"
   ]
  },
  {
   "cell_type": "markdown",
   "id": "64b1dbd5-979e-44ea-ae31-484fe5957494",
   "metadata": {},
   "source": [
    "This shows that the NA algorithm (the new algorithm) makes more mistakes than the original, so NN makes the fewest mistakes."
   ]
  },
  {
   "cell_type": "markdown",
   "id": "20adf576-a4a6-470f-b6ec-93d025224b15",
   "metadata": {},
   "source": [
    "1b) Which algorithm is better for the zoo? Explain."
   ]
  },
  {
   "cell_type": "markdown",
   "id": "df800b70-bceb-409a-beb1-8a502598e287",
   "metadata": {},
   "source": [
    "The second algorithm (NA) is better for the zoo. Even though it makes more mistakes than NN, the mistakes that it does make are in favor of the birds rather than the people, because the majority of the mistakes made are to misidentify people as birds. This is more beneficial to the zoo, because it means that fewer birds have the chance to escape. Some people may get frustrated or impatient, but that is less risky than accidently releasing birds."
   ]
  },
  {
   "cell_type": "markdown",
   "id": "aab979f1-9339-4574-9b63-f2b475c7b055",
   "metadata": {},
   "source": [
    "1c) During the pandemic the number of visitors plummets, and it is only the zoo keeper visiting. So instead of 52% of the photos taken at the aviary door being people, it is now only 1%. Make new truth tables for both algorithms."
   ]
  },
  {
   "cell_type": "code",
   "execution_count": 19,
   "id": "c3ac6ba4-20bd-425e-8c22-e95b202616d3",
   "metadata": {},
   "outputs": [],
   "source": [
    "people = 1\n",
    "birds = 99\n",
    "\n",
    "NNberr = 3/100\n",
    "NNperr = 5/100\n",
    "NAberr = 1/101\n",
    "NAperr = 11/101"
   ]
  },
  {
   "cell_type": "code",
   "execution_count": 20,
   "id": "e340db97-3b73-418c-8120-4da1e6f84e52",
   "metadata": {},
   "outputs": [
    {
     "data": {
      "text/html": [
       "<div>\n",
       "<style scoped>\n",
       "    .dataframe tbody tr th:only-of-type {\n",
       "        vertical-align: middle;\n",
       "    }\n",
       "\n",
       "    .dataframe tbody tr th {\n",
       "        vertical-align: top;\n",
       "    }\n",
       "\n",
       "    .dataframe thead th {\n",
       "        text-align: right;\n",
       "    }\n",
       "</style>\n",
       "<table border=\"1\" class=\"dataframe\">\n",
       "  <thead>\n",
       "    <tr style=\"text-align: right;\">\n",
       "      <th></th>\n",
       "      <th>True Bird</th>\n",
       "      <th>True Person</th>\n",
       "    </tr>\n",
       "  </thead>\n",
       "  <tbody>\n",
       "    <tr>\n",
       "      <th>NN Bird</th>\n",
       "      <td>96.03</td>\n",
       "      <td>0.95</td>\n",
       "    </tr>\n",
       "    <tr>\n",
       "      <th>NN Person</th>\n",
       "      <td>2.97</td>\n",
       "      <td>0.05</td>\n",
       "    </tr>\n",
       "  </tbody>\n",
       "</table>\n",
       "</div>"
      ],
      "text/plain": [
       "           True Bird  True Person\n",
       "NN Bird        96.03         0.95\n",
       "NN Person       2.97         0.05"
      ]
     },
     "execution_count": 20,
     "metadata": {},
     "output_type": "execute_result"
    }
   ],
   "source": [
    "NN_data = {'True Bird': [birds*(1 - NNberr), birds*NNberr],\n",
    "        'True Person': [people*(1 - NNperr), people*NNperr]\n",
    "        }\n",
    "\n",
    "df_NN = pd.DataFrame(NN_data, index=['NN Bird','NN Person'])\n",
    "\n",
    "NA_data = {'True Bird': [birds*(1 - NAberr), birds*NAberr],\n",
    "        'True Person': [people*(1 - NAperr), people*NAperr]\n",
    "        }\n",
    "\n",
    "df_NA = pd.DataFrame(NA_data, index=['NA Bird','NA Person'])\n",
    "\n",
    "df_NN"
   ]
  },
  {
   "cell_type": "code",
   "execution_count": 21,
   "id": "e699a47b-4d61-474b-9363-02d48bb6030d",
   "metadata": {},
   "outputs": [
    {
     "data": {
      "text/html": [
       "<div>\n",
       "<style scoped>\n",
       "    .dataframe tbody tr th:only-of-type {\n",
       "        vertical-align: middle;\n",
       "    }\n",
       "\n",
       "    .dataframe tbody tr th {\n",
       "        vertical-align: top;\n",
       "    }\n",
       "\n",
       "    .dataframe thead th {\n",
       "        text-align: right;\n",
       "    }\n",
       "</style>\n",
       "<table border=\"1\" class=\"dataframe\">\n",
       "  <thead>\n",
       "    <tr style=\"text-align: right;\">\n",
       "      <th></th>\n",
       "      <th>True Bird</th>\n",
       "      <th>True Person</th>\n",
       "    </tr>\n",
       "  </thead>\n",
       "  <tbody>\n",
       "    <tr>\n",
       "      <th>NA Bird</th>\n",
       "      <td>98.019802</td>\n",
       "      <td>0.891089</td>\n",
       "    </tr>\n",
       "    <tr>\n",
       "      <th>NA Person</th>\n",
       "      <td>0.980198</td>\n",
       "      <td>0.108911</td>\n",
       "    </tr>\n",
       "  </tbody>\n",
       "</table>\n",
       "</div>"
      ],
      "text/plain": [
       "           True Bird  True Person\n",
       "NA Bird    98.019802     0.891089\n",
       "NA Person   0.980198     0.108911"
      ]
     },
     "execution_count": 21,
     "metadata": {},
     "output_type": "execute_result"
    }
   ],
   "source": [
    "df_NA"
   ]
  },
  {
   "cell_type": "code",
   "execution_count": 22,
   "id": "96a0b6d9-71c1-4901-a320-0020da1f157e",
   "metadata": {},
   "outputs": [
    {
     "data": {
      "text/html": [
       "<div>\n",
       "<style scoped>\n",
       "    .dataframe tbody tr th:only-of-type {\n",
       "        vertical-align: middle;\n",
       "    }\n",
       "\n",
       "    .dataframe tbody tr th {\n",
       "        vertical-align: top;\n",
       "    }\n",
       "\n",
       "    .dataframe thead th {\n",
       "        text-align: right;\n",
       "    }\n",
       "</style>\n",
       "<table border=\"1\" class=\"dataframe\">\n",
       "  <thead>\n",
       "    <tr style=\"text-align: right;\">\n",
       "      <th></th>\n",
       "      <th>True Bird</th>\n",
       "      <th>True Person</th>\n",
       "    </tr>\n",
       "  </thead>\n",
       "  <tbody>\n",
       "    <tr>\n",
       "      <th>NN Bird</th>\n",
       "      <td>96</td>\n",
       "      <td>1</td>\n",
       "    </tr>\n",
       "    <tr>\n",
       "      <th>NN Person</th>\n",
       "      <td>3</td>\n",
       "      <td>0</td>\n",
       "    </tr>\n",
       "  </tbody>\n",
       "</table>\n",
       "</div>"
      ],
      "text/plain": [
       "           True Bird  True Person\n",
       "NN Bird           96            1\n",
       "NN Person          3            0"
      ]
     },
     "execution_count": 22,
     "metadata": {},
     "output_type": "execute_result"
    }
   ],
   "source": [
    "#df_NN['True Bird'] = df_NN['True Bird'].astype(int)\n",
    "#df_NN['True Person'] = df_NN['True Person'].astype(int)\n",
    "df_NN = np.around(df_NN, decimals=0, out=None)\n",
    "df_NN = df_NN.astype({\"True Bird\": int, \"True Person\": int})\n",
    "\n",
    "df_NA = np.around(df_NA, decimals=0, out=None)\n",
    "df_NA = df_NA.astype({\"True Bird\": int, \"True Person\": int})\n",
    "\n",
    "df_NN"
   ]
  },
  {
   "cell_type": "code",
   "execution_count": 23,
   "id": "ea6f256d-e50b-40c9-997b-8f847eeb710b",
   "metadata": {},
   "outputs": [
    {
     "data": {
      "text/html": [
       "<div>\n",
       "<style scoped>\n",
       "    .dataframe tbody tr th:only-of-type {\n",
       "        vertical-align: middle;\n",
       "    }\n",
       "\n",
       "    .dataframe tbody tr th {\n",
       "        vertical-align: top;\n",
       "    }\n",
       "\n",
       "    .dataframe thead th {\n",
       "        text-align: right;\n",
       "    }\n",
       "</style>\n",
       "<table border=\"1\" class=\"dataframe\">\n",
       "  <thead>\n",
       "    <tr style=\"text-align: right;\">\n",
       "      <th></th>\n",
       "      <th>True Bird</th>\n",
       "      <th>True Person</th>\n",
       "    </tr>\n",
       "  </thead>\n",
       "  <tbody>\n",
       "    <tr>\n",
       "      <th>NA Bird</th>\n",
       "      <td>98</td>\n",
       "      <td>1</td>\n",
       "    </tr>\n",
       "    <tr>\n",
       "      <th>NA Person</th>\n",
       "      <td>1</td>\n",
       "      <td>0</td>\n",
       "    </tr>\n",
       "  </tbody>\n",
       "</table>\n",
       "</div>"
      ],
      "text/plain": [
       "           True Bird  True Person\n",
       "NA Bird           98            1\n",
       "NA Person          1            0"
      ]
     },
     "execution_count": 23,
     "metadata": {},
     "output_type": "execute_result"
    }
   ],
   "source": [
    "df_NA"
   ]
  },
  {
   "cell_type": "markdown",
   "id": "d5927898-34d9-4855-bdb7-9ea89154ba81",
   "metadata": {},
   "source": [
    "## Problem #2\n",
    "In the last lab we explored how to numerically calculate the pdf of a summed or averaged observation through repeated convolutions. But sometimes the convolution has an analytical solution. We could have found this out by either using a sharp pencil and doing the convolution integral by hand, or by looking it up in a table (much easier).\n",
    "\n",
    "Having an analytic answer is much nicer when they exist, so it is always good to look and see if it exists. Further, sums and averages are only some of the mathematical operations that we can perform. In this section we will do an internet scavenger hunt to find the analytic pdf for some interesting distributions."
   ]
  },
  {
   "cell_type": "markdown",
   "id": "ec0c03c6-843a-42d0-9833-177cda76dbf2",
   "metadata": {},
   "source": [
    "### Example #1\n",
    "What is the sum of two Guassian distributions?\n",
    "\n",
    "We did this numerically in the last lab, but we can find it analytically. One might start with this page on the normal distribution which would refer you to this page on the sum, which would give you the same answer you figured out last week."
   ]
  },
  {
   "cell_type": "markdown",
   "id": "6277dbc1-952a-4890-a98b-efc313ded7bd",
   "metadata": {},
   "source": [
    "### Example #2\n",
    "Let's say we have a variable with a Rayleigh distribution, and we're going to square it. What is the distribution?\n",
    "\n",
    "First I'll lookup and read about the Rayleigh distribution, such as this Wikipedia page (Mathworld and other sources, such as CRC books are great too). Down near the bottom are listed a number of related distributions. Note that the square of the Rayleigh is listed as a gamma distribution with N = 1. Looking up the gamma distribution we see that a gamma with N=1 is an exponential distribution, and just to check we can see that the sqrt of an exponential distribution is a Rayleigh distribution to bring us full circle."
   ]
  },
  {
   "cell_type": "markdown",
   "id": "3a8d5062-dcfa-4288-9fc0-14bbac4a81f5",
   "metadata": {},
   "source": [
    "Now it is your turn!\n",
    "\n",
    "2a) What is the pdf of the sum of two identical exponential distributions?"
   ]
  },
  {
   "cell_type": "markdown",
   "id": "9e347438-e40e-425e-b52c-5e8bc1eaf561",
   "metadata": {},
   "source": [
    "If the two exponential distributions are identical, and they have a rate parameter $\\lambda$, then the probability distribution function of their sum can be given by the following equation:\n",
    "\n",
    "$f(x) = \\lambda^{2} x e^{-\\lambda x}$\n",
    "\n",
    "This is a gamma distribution, and if the parameters are right, it is also effectively a Rayleigh distribution."
   ]
  },
  {
   "cell_type": "markdown",
   "id": "8b29a5ba-e7ad-4ec4-b784-9c7a0bb6c991",
   "metadata": {},
   "source": [
    "2b) What is the pdf of the ratio of two zero-mean unity variance normal distributions  $X1/X2$ ?"
   ]
  },
  {
   "cell_type": "markdown",
   "id": "223a8755-d386-42c5-9d3d-431c7fb687d7",
   "metadata": {},
   "source": [
    "The probability density function of of the ratio $X1/X2$ when both variables are zero-mean normal distributions with unity variance is a Cauchy, or Lorentzian, distribution. It can be represented by the following function, in which $\\mu$ is the mean (or location parameter) and $\\gamma$ is the scale parameter:\n",
    "\n",
    "$f(x) = \\frac{\\gamma}{\\pi[(x-\\mu)^{2}+\\gamma^{2}]}$"
   ]
  },
  {
   "cell_type": "markdown",
   "id": "f1422e3a-6d39-4ba4-817e-a1484d4049b0",
   "metadata": {},
   "source": [
    "2c) So far we have looked at 1D probability distributions, but it is possible to have a multi-dimensional vector distribution. A simple first introduction is the 2D Guassian; it looks like a smeared spot. Mathematically this is given by  $X\\hat i+Y\\hat j$  where both  $X$  and  $Y$  are drawn from 1D Gaussian distributions. If I measure the amplitude of this vector, what is its pdf? (Hint, the amplitude is always positive.)"
   ]
  },
  {
   "cell_type": "markdown",
   "id": "ee750f97-4974-4425-be02-3f4411c2c892",
   "metadata": {},
   "source": [
    "A two-dimensional Gaussian distribution that can be represented as a vector $X\\hat i+Y\\hat j$ will have an amplitude that is equal to the magnitude of the vector: $\\sqrt{X^2+Y^2}$"
   ]
  },
  {
   "cell_type": "markdown",
   "id": "46b0c03e-defd-4b19-860d-b492031595f8",
   "metadata": {},
   "source": [
    "It will require a two-dimensional input (one independent variable for each component function), and will give the probability associated with any position on a plane created by the two component functions."
   ]
  },
  {
   "cell_type": "code",
   "execution_count": null,
   "id": "cdc6d4ad-bffe-40ce-a432-58de754aa034",
   "metadata": {},
   "outputs": [],
   "source": []
  },
  {
   "cell_type": "code",
   "execution_count": null,
   "id": "03605f53-7b33-4f59-ba22-78eacb4307fb",
   "metadata": {},
   "outputs": [],
   "source": []
  }
 ],
 "metadata": {
  "kernelspec": {
   "display_name": "Python 3",
   "language": "python",
   "name": "python3"
  },
  "language_info": {
   "codemirror_mode": {
    "name": "ipython",
    "version": 3
   },
   "file_extension": ".py",
   "mimetype": "text/x-python",
   "name": "python",
   "nbconvert_exporter": "python",
   "pygments_lexer": "ipython3",
   "version": "3.8.8"
  }
 },
 "nbformat": 4,
 "nbformat_minor": 5
}
